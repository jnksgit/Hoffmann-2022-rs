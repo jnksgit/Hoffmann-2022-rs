{
  "nbformat": 4,
  "nbformat_minor": 0,
  "metadata": {
    "colab": {
      "name": "Model2raster.ipynb",
      "provenance": [],
      "collapsed_sections": [],
      "include_colab_link": true
    },
    "kernelspec": {
      "name": "python3",
      "display_name": "Python 3"
    },
    "language_info": {
      "name": "python"
    }
  },
  "cells": [
    {
      "cell_type": "markdown",
      "metadata": {
        "id": "view-in-github",
        "colab_type": "text"
      },
      "source": [
        "<a href=\"https://colab.research.google.com/github/jnksgit/Hoffmann-2022-rs/blob/main/Model2raster.ipynb\" target=\"_parent\"><img src=\"https://colab.research.google.com/assets/colab-badge.svg\" alt=\"Open In Colab\"/></a>"
      ]
    },
    {
      "cell_type": "code",
      "metadata": {
        "id": "BvJTBSozlikL"
      },
      "source": [
        "%%capture\n",
        "!pip install earthpy"
      ],
      "execution_count": null,
      "outputs": []
    },
    {
      "cell_type": "code",
      "metadata": {
        "colab": {
          "base_uri": "https://localhost:8080/"
        },
        "id": "BRL-ozlKnHpO",
        "outputId": "7bd64890-6450-4928-ec6a-9f8108d8d213"
      },
      "source": [
        "!pip install pyrsgis"
      ],
      "execution_count": null,
      "outputs": [
        {
          "output_type": "stream",
          "name": "stdout",
          "text": [
            "Collecting pyrsgis\n",
            "  Downloading pyrsgis-0.4.1-py3-none-any.whl (25 kB)\n",
            "Installing collected packages: pyrsgis\n",
            "Successfully installed pyrsgis-0.4.1\n"
          ]
        }
      ]
    },
    {
      "cell_type": "code",
      "metadata": {
        "id": "2Fr19_rCnOFw"
      },
      "source": [
        "import earthpy as et\n",
        "import earthpy.spatial as es\n",
        "import earthpy.plot as ep"
      ],
      "execution_count": null,
      "outputs": []
    },
    {
      "cell_type": "code",
      "metadata": {
        "id": "99xvLUmunRvI"
      },
      "source": [
        "import matplotlib.pyplot as plt\n",
        "import numpy as np\n",
        "import pandas as pd\n",
        "\n",
        "import tensorflow as tf\n",
        "from tensorflow import keras\n",
        "\n",
        "from google.colab import files\n",
        "import io"
      ],
      "execution_count": null,
      "outputs": []
    },
    {
      "cell_type": "code",
      "metadata": {
        "id": "_KJGxg4PnU5A"
      },
      "source": [
        "import os\n",
        "import rasterio\n",
        "from pyrsgis import raster\n",
        "from pyrsgis.convert import changeDimension"
      ],
      "execution_count": null,
      "outputs": []
    },
    {
      "cell_type": "code",
      "metadata": {
        "colab": {
          "base_uri": "https://localhost:8080/"
        },
        "id": "JAAxs9iknbBH",
        "outputId": "ccb5a2ed-e699-4257-c05c-6d035b48773b"
      },
      "source": [
        "from google.colab import drive\n",
        "drive.mount('/content/drive', force_remount=True)"
      ],
      "execution_count": null,
      "outputs": [
        {
          "output_type": "stream",
          "name": "stdout",
          "text": [
            "Mounted at /content/drive\n"
          ]
        }
      ]
    },
    {
      "cell_type": "code",
      "metadata": {
        "colab": {
          "base_uri": "https://localhost:8080/",
          "height": 37
        },
        "id": "WUAlOdiapL1C",
        "outputId": "76f67f4f-fd49-4280-8ef4-64c10003338c"
      },
      "source": [
        "pwd"
      ],
      "execution_count": null,
      "outputs": [
        {
          "output_type": "execute_result",
          "data": {
            "text/plain": [
              "'/content/drive/MyDrive/DNN_data/Model/Bands'"
            ],
            "application/vnd.google.colaboratory.intrinsic+json": {
              "type": "string"
            }
          },
          "metadata": {},
          "execution_count": 45
        }
      ]
    },
    {
      "cell_type": "code",
      "metadata": {
        "id": "3_YBgwOOpPQH",
        "colab": {
          "base_uri": "https://localhost:8080/"
        },
        "outputId": "e6c50a18-64f4-43aa-c0f5-580eb99cfc03"
      },
      "source": [
        "%cd .'/drive/MyDrive/DNN_data/Model/Bands'"
      ],
      "execution_count": null,
      "outputs": [
        {
          "output_type": "stream",
          "name": "stdout",
          "text": [
            "[Errno 2] No such file or directory: './drive/MyDrive/DNN_data/Model/Bands'\n",
            "/content/drive/MyDrive/DNN_data/Model/Bands\n"
          ]
        }
      ]
    },
    {
      "cell_type": "code",
      "metadata": {
        "id": "mNni7nPEq9os",
        "colab": {
          "base_uri": "https://localhost:8080/",
          "height": 37
        },
        "outputId": "18998acb-8b58-4156-b541-a132d90818fa"
      },
      "source": [
        "pwd"
      ],
      "execution_count": null,
      "outputs": [
        {
          "output_type": "execute_result",
          "data": {
            "text/plain": [
              "'/content/drive/MyDrive/DNN_data/Model/Bands'"
            ],
            "application/vnd.google.colaboratory.intrinsic+json": {
              "type": "string"
            }
          },
          "metadata": {},
          "execution_count": 47
        }
      ]
    },
    {
      "cell_type": "code",
      "metadata": {
        "id": "XVhfc3qHrTUP",
        "colab": {
          "base_uri": "https://localhost:8080/"
        },
        "outputId": "d013bfb1-d834-4b32-c91c-48df597b1671"
      },
      "source": [
        "ls"
      ],
      "execution_count": null,
      "outputs": [
        {
          "output_type": "stream",
          "name": "stdout",
          "text": [
            "alb_vh_100.tif  hai_vh_100.tif  \u001b[0m\u001b[01;34mModel\u001b[0m/          sch_vv_100.tif\n",
            "alb_vv_100.tif  hai_vv_100.tif  sch_vh_100.tif\n"
          ]
        }
      ]
    },
    {
      "cell_type": "code",
      "metadata": {
        "id": "roepd6FHsQTo"
      },
      "source": [
        "# Load model from Google Drive folder\n",
        "model = keras.models.load_model('Model')"
      ],
      "execution_count": null,
      "outputs": []
    },
    {
      "cell_type": "code",
      "metadata": {
        "id": "rLM-vXUJsiFj"
      },
      "source": [
        "# Create file list with predictors\n",
        "file_list = (\"sch_vh_100.tif\", \"sch_vv_100.tif\")"
      ],
      "execution_count": null,
      "outputs": []
    },
    {
      "cell_type": "code",
      "source": [
        "from google.colab import drive\n",
        "drive.mount('/content/drive')"
      ],
      "metadata": {
        "colab": {
          "base_uri": "https://localhost:8080/"
        },
        "id": "oXFch-TljOi_",
        "outputId": "9febb978-f618-43ba-9f71-5e5669c7bd12"
      },
      "execution_count": null,
      "outputs": [
        {
          "output_type": "stream",
          "name": "stdout",
          "text": [
            "Drive already mounted at /content/drive; to attempt to forcibly remount, call drive.mount(\"/content/drive\", force_remount=True).\n"
          ]
        }
      ]
    },
    {
      "cell_type": "code",
      "metadata": {
        "colab": {
          "base_uri": "https://localhost:8080/"
        },
        "id": "sbqhfV2FsiP7",
        "outputId": "6e654918-50b4-4b3f-f3fe-e10ad7c821f2"
      },
      "source": [
        "file_list"
      ],
      "execution_count": null,
      "outputs": [
        {
          "output_type": "execute_result",
          "data": {
            "text/plain": [
              "('sch_vh_100.tif', 'sch_vv_100.tif')"
            ]
          },
          "metadata": {},
          "execution_count": 53
        }
      ]
    },
    {
      "cell_type": "code",
      "metadata": {
        "id": "bFky-IXksuMm"
      },
      "source": [
        "arr_st, meta = es.stack(file_list)"
      ],
      "execution_count": null,
      "outputs": []
    },
    {
      "cell_type": "code",
      "metadata": {
        "colab": {
          "base_uri": "https://localhost:8080/"
        },
        "id": "fu2XMaVnsuU6",
        "outputId": "b2138cf8-37bb-4c1a-bb64-94ddf42bccad"
      },
      "source": [
        "meta"
      ],
      "execution_count": null,
      "outputs": [
        {
          "output_type": "execute_result",
          "data": {
            "text/plain": [
              "{'driver': 'GTiff', 'dtype': 'float32', 'nodata': 0.0, 'width': 532, 'height': 477, 'count': 2, 'crs': CRS.from_epsg(32632), 'transform': Affine(100.0, 0.0, 793830.0,\n",
              "       0.0, -100.0, 5908470.0), 'tiled': False, 'interleave': 'band'}"
            ]
          },
          "metadata": {},
          "execution_count": 55
        }
      ]
    },
    {
      "cell_type": "code",
      "metadata": {
        "id": "bJtb27Wms4iL",
        "colab": {
          "base_uri": "https://localhost:8080/"
        },
        "outputId": "0e1b167c-c36b-4cb2-a444-58c6961d9c90"
      },
      "source": [
        "# Deplete dimension of the raster data so that the model can read it\n",
        "myrast_reshape = changeDimension(arr_st)"
      ],
      "execution_count": null,
      "outputs": [
        {
          "output_type": "stream",
          "name": "stdout",
          "text": [
            "The \"changeDimension()\" function has moved to \"array_to_table()\" and will be deprecated in future versions. Please check the pyrsgis documentation at https://pyrsgis.readthedocs.io/en/master/ for more details.\n"
          ]
        }
      ]
    },
    {
      "cell_type": "code",
      "metadata": {
        "id": "NbCjvEU8s4ml"
      },
      "source": [
        "# Predict study variable based on raster data\n",
        "myrast_pred = model.predict(myrast_reshape)"
      ],
      "execution_count": null,
      "outputs": []
    },
    {
      "cell_type": "code",
      "metadata": {
        "id": "tLkOcmHts4q8",
        "colab": {
          "base_uri": "https://localhost:8080/"
        },
        "outputId": "e9855a7a-e701-43d9-e286-acde8bfe77d2"
      },
      "source": [
        "arr_st.shape"
      ],
      "execution_count": null,
      "outputs": [
        {
          "output_type": "execute_result",
          "data": {
            "text/plain": [
              "(2, 477, 532)"
            ]
          },
          "metadata": {},
          "execution_count": 58
        }
      ]
    },
    {
      "cell_type": "code",
      "metadata": {
        "id": "Ki_cqB59KD9k"
      },
      "source": [
        "# Reshape raster so that it can be exported as GeoTIFF data\n",
        "prediction = np.reshape(myrast_pred, (arr_st.shape[1], arr_st.shape[2]))"
      ],
      "execution_count": null,
      "outputs": []
    },
    {
      "cell_type": "code",
      "metadata": {
        "id": "v9NhZ3Z9KHGl"
      },
      "source": [
        "with rasterio.open('HAI_dbh_preds.tif', 'w', \n",
        "                   driver = \"Gtiff\",\n",
        "                   height= prediction.shape[0],\n",
        "                   width= prediction.shape[1],\n",
        "                   count = 1,\n",
        "                   dtype = prediction.dtype,\n",
        "                   crs = meta['crs'],\n",
        "                   transform = meta['transform']\n",
        "                   ) as dst:\n",
        "    dst.write(prediction, 1)"
      ],
      "execution_count": null,
      "outputs": []
    },
    {
      "cell_type": "code",
      "metadata": {
        "colab": {
          "base_uri": "https://localhost:8080/"
        },
        "id": "FJU7JgAXKYyp",
        "outputId": "53777bd0-a8c8-48b9-964f-38496e67d136"
      },
      "source": [
        "print(np.amax(arr_st))\n",
        "print(np.amin(arr_st))"
      ],
      "execution_count": null,
      "outputs": [
        {
          "output_type": "stream",
          "name": "stdout",
          "text": [
            "17.22653\n",
            "-30.930517\n"
          ]
        }
      ]
    },
    {
      "cell_type": "code",
      "metadata": {
        "id": "rcJbC07xKbpG"
      },
      "source": [
        "myrast_masked = np.ma.masked_values(arr_st, np.amin(arr_st))"
      ],
      "execution_count": null,
      "outputs": []
    },
    {
      "cell_type": "code",
      "metadata": {
        "colab": {
          "base_uri": "https://localhost:8080/"
        },
        "id": "lO8ek7IAKe_H",
        "outputId": "71fdf132-de84-4346-96b8-acae8ee3fa80"
      },
      "source": [
        "print(np.amax(prediction))\n",
        "print(np.amin(prediction))"
      ],
      "execution_count": null,
      "outputs": [
        {
          "output_type": "stream",
          "name": "stdout",
          "text": [
            "175.85739\n",
            "6.12709\n"
          ]
        }
      ]
    },
    {
      "cell_type": "code",
      "metadata": {
        "colab": {
          "base_uri": "https://localhost:8080/",
          "height": 711
        },
        "id": "9mJy6rG_KphF",
        "outputId": "044c0444-7f93-41f9-a75e-5e3e9c54a62e"
      },
      "source": [
        "ep.hist(myrast_masked)\n",
        "plt.show()"
      ],
      "execution_count": null,
      "outputs": [
        {
          "output_type": "display_data",
          "data": {
            "image/png": "[encoded data removed]",
            "text/plain": [
              "<Figure size 864x864 with 4 Axes>"
            ]
          },
          "metadata": {
            "needs_background": "light"
          }
        }
      ]
    },
    {
      "cell_type": "code",
      "metadata": {
        "id": "0MeNgXiAKtxY"
      },
      "source": [
        "import matplotlib.pyplot as plt\n",
        "import numpy.ma as ma"
      ],
      "execution_count": null,
      "outputs": []
    },
    {
      "cell_type": "code",
      "metadata": {
        "colab": {
          "base_uri": "https://localhost:8080/",
          "height": 269
        },
        "id": "uXMcg3ZJK0No",
        "outputId": "1ad5a4a9-ab55-451a-d155-ba23d9d25d61"
      },
      "source": [
        "plt.imshow(prediction)\n",
        "prediction_masked = ma.masked_greater(prediction, 100, copy=True)"
      ],
      "execution_count": null,
      "outputs": [
        {
          "output_type": "display_data",
          "data": {
            "image/png": "[encoded data removed]",
            "text/plain": [
              "<Figure size 432x288 with 1 Axes>"
            ]
          },
          "metadata": {
            "needs_background": "light"
          }
        }
      ]
    }
  ]
}